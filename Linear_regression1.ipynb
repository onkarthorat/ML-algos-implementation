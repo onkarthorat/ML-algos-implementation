{
 "cells": [
  {
   "cell_type": "code",
   "execution_count": 1,
   "metadata": {},
   "outputs": [],
   "source": [
    "import pandas as pd\n",
    "import numpy as np\n",
    "import matplotlib.pyplot as plt"
   ]
  },
  {
   "cell_type": "code",
   "execution_count": 2,
   "metadata": {},
   "outputs": [],
   "source": [
    "df = pd.read_csv('Admission_Predict.csv')"
   ]
  },
  {
   "cell_type": "code",
   "execution_count": 3,
   "metadata": {},
   "outputs": [
    {
     "data": {
      "text/html": [
       "<div>\n",
       "<style scoped>\n",
       "    .dataframe tbody tr th:only-of-type {\n",
       "        vertical-align: middle;\n",
       "    }\n",
       "\n",
       "    .dataframe tbody tr th {\n",
       "        vertical-align: top;\n",
       "    }\n",
       "\n",
       "    .dataframe thead th {\n",
       "        text-align: right;\n",
       "    }\n",
       "</style>\n",
       "<table border=\"1\" class=\"dataframe\">\n",
       "  <thead>\n",
       "    <tr style=\"text-align: right;\">\n",
       "      <th></th>\n",
       "      <th>Serial No.</th>\n",
       "      <th>GRE Score</th>\n",
       "      <th>TOEFL Score</th>\n",
       "      <th>University Rating</th>\n",
       "      <th>SOP</th>\n",
       "      <th>LOR</th>\n",
       "      <th>CGPA</th>\n",
       "      <th>Research</th>\n",
       "      <th>Chance of Admit</th>\n",
       "    </tr>\n",
       "  </thead>\n",
       "  <tbody>\n",
       "    <tr>\n",
       "      <th>0</th>\n",
       "      <td>1</td>\n",
       "      <td>337</td>\n",
       "      <td>118</td>\n",
       "      <td>4</td>\n",
       "      <td>4.5</td>\n",
       "      <td>4.5</td>\n",
       "      <td>9.65</td>\n",
       "      <td>1</td>\n",
       "      <td>0.92</td>\n",
       "    </tr>\n",
       "    <tr>\n",
       "      <th>1</th>\n",
       "      <td>2</td>\n",
       "      <td>324</td>\n",
       "      <td>107</td>\n",
       "      <td>4</td>\n",
       "      <td>4.0</td>\n",
       "      <td>4.5</td>\n",
       "      <td>8.87</td>\n",
       "      <td>1</td>\n",
       "      <td>0.76</td>\n",
       "    </tr>\n",
       "    <tr>\n",
       "      <th>2</th>\n",
       "      <td>3</td>\n",
       "      <td>316</td>\n",
       "      <td>104</td>\n",
       "      <td>3</td>\n",
       "      <td>3.0</td>\n",
       "      <td>3.5</td>\n",
       "      <td>8.00</td>\n",
       "      <td>1</td>\n",
       "      <td>0.72</td>\n",
       "    </tr>\n",
       "    <tr>\n",
       "      <th>3</th>\n",
       "      <td>4</td>\n",
       "      <td>322</td>\n",
       "      <td>110</td>\n",
       "      <td>3</td>\n",
       "      <td>3.5</td>\n",
       "      <td>2.5</td>\n",
       "      <td>8.67</td>\n",
       "      <td>1</td>\n",
       "      <td>0.80</td>\n",
       "    </tr>\n",
       "    <tr>\n",
       "      <th>4</th>\n",
       "      <td>5</td>\n",
       "      <td>314</td>\n",
       "      <td>103</td>\n",
       "      <td>2</td>\n",
       "      <td>2.0</td>\n",
       "      <td>3.0</td>\n",
       "      <td>8.21</td>\n",
       "      <td>0</td>\n",
       "      <td>0.65</td>\n",
       "    </tr>\n",
       "  </tbody>\n",
       "</table>\n",
       "</div>"
      ],
      "text/plain": [
       "   Serial No.  GRE Score  TOEFL Score  University Rating  SOP  LOR   CGPA  \\\n",
       "0           1        337          118                  4  4.5   4.5  9.65   \n",
       "1           2        324          107                  4  4.0   4.5  8.87   \n",
       "2           3        316          104                  3  3.0   3.5  8.00   \n",
       "3           4        322          110                  3  3.5   2.5  8.67   \n",
       "4           5        314          103                  2  2.0   3.0  8.21   \n",
       "\n",
       "   Research  Chance of Admit   \n",
       "0         1              0.92  \n",
       "1         1              0.76  \n",
       "2         1              0.72  \n",
       "3         1              0.80  \n",
       "4         0              0.65  "
      ]
     },
     "execution_count": 3,
     "metadata": {},
     "output_type": "execute_result"
    }
   ],
   "source": [
    "df.head()"
   ]
  },
  {
   "cell_type": "code",
   "execution_count": 4,
   "metadata": {},
   "outputs": [
    {
     "name": "stdout",
     "output_type": "stream",
     "text": [
      "<class 'pandas.core.frame.DataFrame'>\n",
      "RangeIndex: 400 entries, 0 to 399\n",
      "Data columns (total 9 columns):\n",
      "Serial No.           400 non-null int64\n",
      "GRE Score            400 non-null int64\n",
      "TOEFL Score          400 non-null int64\n",
      "University Rating    400 non-null int64\n",
      "SOP                  400 non-null float64\n",
      "LOR                  400 non-null float64\n",
      "CGPA                 400 non-null float64\n",
      "Research             400 non-null int64\n",
      "Chance of Admit      400 non-null float64\n",
      "dtypes: float64(4), int64(5)\n",
      "memory usage: 28.2 KB\n"
     ]
    }
   ],
   "source": [
    "df.info()"
   ]
  },
  {
   "cell_type": "code",
   "execution_count": 5,
   "metadata": {},
   "outputs": [],
   "source": [
    "X = df['CGPA'].values"
   ]
  },
  {
   "cell_type": "code",
   "execution_count": 6,
   "metadata": {},
   "outputs": [
    {
     "data": {
      "text/plain": [
       "(400,)"
      ]
     },
     "execution_count": 6,
     "metadata": {},
     "output_type": "execute_result"
    }
   ],
   "source": [
    "X.shape"
   ]
  },
  {
   "cell_type": "code",
   "execution_count": 7,
   "metadata": {},
   "outputs": [
    {
     "data": {
      "text/plain": [
       "array([9.65, 8.87, 8.  , 8.67, 8.21, 9.34, 8.2 , 7.9 , 8.  , 8.6 , 8.4 ,\n",
       "       9.  , 9.1 , 8.  , 8.2 , 8.3 , 8.7 , 8.  , 8.8 , 8.5 , 7.9 , 8.4 ,\n",
       "       9.5 , 9.7 , 9.8 , 9.6 , 8.8 , 7.5 , 7.2 , 7.3 , 8.1 , 8.3 , 9.4 ,\n",
       "       9.6 , 9.8 , 9.2 , 8.4 , 7.8 , 7.5 , 7.7 , 8.  , 8.2 , 8.5 , 9.1 ,\n",
       "       9.4 , 9.1 , 9.3 , 9.7 , 8.85, 8.4 , 8.3 , 7.9 , 8.  , 8.1 , 8.  ,\n",
       "       7.7 , 7.4 , 7.6 , 6.8 , 8.3 , 8.1 , 8.2 , 8.2 , 8.5 , 8.7 , 8.92,\n",
       "       9.02, 8.64, 9.22, 9.16, 9.64, 9.76, 9.45, 9.04, 8.9 , 8.56, 8.72,\n",
       "       8.22, 7.54, 7.36, 8.02, 9.5 , 9.22, 9.36, 9.45, 8.66, 8.42, 8.28,\n",
       "       8.14, 8.76, 7.92, 7.66, 8.03, 7.88, 7.66, 7.84, 8.  , 8.96, 9.24,\n",
       "       8.88, 8.46, 8.12, 8.25, 8.47, 9.05, 8.78, 9.18, 9.46, 9.38, 8.64,\n",
       "       8.48, 8.68, 8.34, 8.56, 8.45, 9.04, 8.62, 7.46, 7.28, 8.84, 9.56,\n",
       "       9.48, 8.36, 8.22, 8.47, 8.66, 9.32, 8.71, 9.1 , 9.35, 9.76, 8.65,\n",
       "       8.56, 8.78, 9.28, 8.77, 8.45, 8.16, 9.08, 9.12, 9.15, 9.36, 9.44,\n",
       "       9.92, 8.96, 8.64, 8.48, 9.11, 9.8 , 8.26, 9.43, 9.28, 9.06, 8.75,\n",
       "       8.89, 8.69, 8.34, 8.26, 8.14, 7.9 , 7.86, 7.46, 8.5 , 8.56, 9.01,\n",
       "       8.97, 8.33, 8.27, 7.8 , 7.98, 8.04, 9.07, 9.13, 9.23, 8.97, 8.87,\n",
       "       9.16, 9.04, 8.12, 8.27, 8.16, 8.42, 7.88, 8.8 , 8.32, 9.11, 8.68,\n",
       "       9.44, 9.36, 9.08, 9.16, 8.98, 8.94, 9.53, 8.76, 8.52, 8.26, 8.33,\n",
       "       8.43, 8.69, 8.54, 8.46, 9.91, 9.87, 8.54, 7.65, 7.89, 8.02, 8.16,\n",
       "       8.12, 9.06, 9.14, 9.66, 9.78, 9.42, 9.36, 9.26, 9.13, 8.97, 8.42,\n",
       "       8.75, 8.56, 8.79, 8.45, 8.23, 8.03, 8.45, 8.53, 8.67, 9.01, 8.65,\n",
       "       8.33, 8.27, 8.07, 9.31, 9.23, 9.17, 9.19, 8.37, 7.89, 7.68, 8.15,\n",
       "       8.76, 9.04, 8.56, 9.02, 8.73, 8.48, 8.87, 8.83, 8.57, 9.  , 8.54,\n",
       "       9.68, 9.12, 8.37, 8.56, 8.64, 8.76, 9.34, 9.13, 8.09, 8.36, 8.79,\n",
       "       8.76, 8.68, 8.45, 8.17, 9.14, 8.34, 8.22, 7.86, 7.64, 8.01, 7.95,\n",
       "       8.96, 9.45, 8.62, 8.49, 8.73, 8.64, 9.11, 8.79, 8.9 , 9.66, 9.26,\n",
       "       9.19, 9.08, 9.02, 9.  , 7.65, 7.87, 7.97, 8.18, 8.32, 8.57, 8.67,\n",
       "       9.11, 9.24, 8.65, 8.  , 8.76, 8.45, 8.55, 8.43, 8.8 , 9.1 , 9.  ,\n",
       "       8.53, 8.6 , 8.74, 9.18, 9.  , 8.04, 8.13, 8.07, 7.86, 8.01, 8.8 ,\n",
       "       8.69, 8.5 , 8.44, 8.27, 8.18, 8.33, 9.14, 8.02, 7.86, 8.77, 7.89,\n",
       "       8.66, 8.12, 8.21, 8.54, 8.65, 9.11, 8.79, 9.47, 8.74, 8.66, 8.46,\n",
       "       8.76, 8.24, 8.13, 7.34, 7.43, 7.64, 7.34, 7.25, 8.04, 8.27, 8.67,\n",
       "       8.06, 8.17, 7.67, 8.12, 8.77, 7.89, 7.64, 8.44, 8.64, 9.54, 9.23,\n",
       "       8.36, 8.9 , 9.17, 8.34, 7.46, 7.88, 8.03, 8.24, 9.22, 9.62, 8.54,\n",
       "       7.65, 7.66, 7.43, 7.56, 7.65, 8.43, 8.84, 8.67, 9.15, 8.26, 9.74,\n",
       "       9.82, 7.96, 8.1 , 7.8 , 8.44, 8.24, 8.65, 9.12, 8.76, 9.23, 9.04,\n",
       "       9.11, 9.45, 8.78, 9.66])"
      ]
     },
     "execution_count": 7,
     "metadata": {},
     "output_type": "execute_result"
    }
   ],
   "source": [
    "X"
   ]
  },
  {
   "cell_type": "code",
   "execution_count": 8,
   "metadata": {},
   "outputs": [],
   "source": [
    "y = df['Chance of Admit '].values"
   ]
  },
  {
   "cell_type": "code",
   "execution_count": 9,
   "metadata": {},
   "outputs": [
    {
     "data": {
      "text/plain": [
       "array([0.92, 0.76, 0.72, 0.8 , 0.65, 0.9 , 0.75, 0.68, 0.5 , 0.45, 0.52,\n",
       "       0.84, 0.78, 0.62, 0.61, 0.54, 0.66, 0.65, 0.63, 0.62, 0.64, 0.7 ,\n",
       "       0.94, 0.95, 0.97, 0.94, 0.76, 0.44, 0.46, 0.54, 0.65, 0.74, 0.91,\n",
       "       0.9 , 0.94, 0.88, 0.64, 0.58, 0.52, 0.48, 0.46, 0.49, 0.53, 0.87,\n",
       "       0.91, 0.88, 0.86, 0.89, 0.82, 0.78, 0.76, 0.56, 0.78, 0.72, 0.7 ,\n",
       "       0.64, 0.64, 0.46, 0.36, 0.42, 0.48, 0.47, 0.54, 0.56, 0.52, 0.55,\n",
       "       0.61, 0.57, 0.68, 0.78, 0.94, 0.96, 0.93, 0.84, 0.74, 0.72, 0.74,\n",
       "       0.64, 0.44, 0.46, 0.5 , 0.96, 0.92, 0.92, 0.94, 0.76, 0.72, 0.66,\n",
       "       0.64, 0.74, 0.64, 0.38, 0.34, 0.44, 0.36, 0.42, 0.48, 0.86, 0.9 ,\n",
       "       0.79, 0.71, 0.64, 0.62, 0.57, 0.74, 0.69, 0.87, 0.91, 0.93, 0.68,\n",
       "       0.61, 0.69, 0.62, 0.72, 0.59, 0.66, 0.56, 0.45, 0.47, 0.71, 0.94,\n",
       "       0.94, 0.57, 0.61, 0.57, 0.64, 0.85, 0.78, 0.84, 0.92, 0.96, 0.77,\n",
       "       0.71, 0.79, 0.89, 0.82, 0.76, 0.71, 0.8 , 0.78, 0.84, 0.9 , 0.92,\n",
       "       0.97, 0.8 , 0.81, 0.75, 0.83, 0.96, 0.79, 0.93, 0.94, 0.86, 0.79,\n",
       "       0.8 , 0.77, 0.7 , 0.65, 0.61, 0.52, 0.57, 0.53, 0.67, 0.68, 0.81,\n",
       "       0.78, 0.65, 0.64, 0.64, 0.65, 0.68, 0.89, 0.86, 0.89, 0.87, 0.85,\n",
       "       0.9 , 0.82, 0.72, 0.73, 0.71, 0.71, 0.68, 0.75, 0.72, 0.89, 0.84,\n",
       "       0.93, 0.93, 0.88, 0.9 , 0.87, 0.86, 0.94, 0.77, 0.78, 0.73, 0.73,\n",
       "       0.7 , 0.72, 0.73, 0.72, 0.97, 0.97, 0.69, 0.57, 0.63, 0.66, 0.64,\n",
       "       0.68, 0.79, 0.82, 0.95, 0.96, 0.94, 0.93, 0.91, 0.85, 0.84, 0.74,\n",
       "       0.76, 0.75, 0.76, 0.71, 0.67, 0.61, 0.63, 0.64, 0.71, 0.82, 0.73,\n",
       "       0.74, 0.69, 0.64, 0.91, 0.88, 0.85, 0.86, 0.7 , 0.59, 0.6 , 0.65,\n",
       "       0.7 , 0.76, 0.63, 0.81, 0.72, 0.71, 0.8 , 0.77, 0.74, 0.7 , 0.71,\n",
       "       0.93, 0.85, 0.79, 0.76, 0.78, 0.77, 0.9 , 0.87, 0.71, 0.7 , 0.7 ,\n",
       "       0.75, 0.71, 0.72, 0.73, 0.83, 0.77, 0.72, 0.54, 0.49, 0.52, 0.58,\n",
       "       0.78, 0.89, 0.7 , 0.66, 0.67, 0.68, 0.8 , 0.81, 0.8 , 0.94, 0.93,\n",
       "       0.92, 0.89, 0.82, 0.79, 0.58, 0.56, 0.56, 0.64, 0.61, 0.68, 0.76,\n",
       "       0.86, 0.9 , 0.71, 0.62, 0.66, 0.65, 0.73, 0.62, 0.74, 0.79, 0.8 ,\n",
       "       0.69, 0.7 , 0.76, 0.84, 0.78, 0.67, 0.66, 0.65, 0.54, 0.58, 0.79,\n",
       "       0.8 , 0.75, 0.73, 0.72, 0.62, 0.67, 0.81, 0.63, 0.69, 0.8 , 0.43,\n",
       "       0.8 , 0.73, 0.75, 0.71, 0.73, 0.83, 0.72, 0.94, 0.81, 0.81, 0.75,\n",
       "       0.79, 0.58, 0.59, 0.47, 0.49, 0.47, 0.42, 0.57, 0.62, 0.74, 0.73,\n",
       "       0.64, 0.63, 0.59, 0.73, 0.79, 0.68, 0.7 , 0.81, 0.85, 0.93, 0.91,\n",
       "       0.69, 0.77, 0.86, 0.74, 0.57, 0.51, 0.67, 0.72, 0.89, 0.95, 0.79,\n",
       "       0.39, 0.38, 0.34, 0.47, 0.56, 0.71, 0.78, 0.73, 0.82, 0.62, 0.96,\n",
       "       0.96, 0.46, 0.53, 0.49, 0.76, 0.64, 0.71, 0.84, 0.77, 0.89, 0.82,\n",
       "       0.84, 0.91, 0.67, 0.95])"
      ]
     },
     "execution_count": 9,
     "metadata": {},
     "output_type": "execute_result"
    }
   ],
   "source": [
    "y"
   ]
  },
  {
   "cell_type": "code",
   "execution_count": 10,
   "metadata": {},
   "outputs": [],
   "source": [
    "from sklearn.model_selection import train_test_split\n",
    "X_train, X_test, y_train, y_test = train_test_split(X, y, test_size = 0.2, random_state = 0)"
   ]
  },
  {
   "cell_type": "code",
   "execution_count": 11,
   "metadata": {},
   "outputs": [],
   "source": [
    "X_train = X_train.reshape(-1,1)\n",
    "y_train = y_train.reshape(-1,1)\n",
    "X_test = X_test.reshape(-1,1)\n",
    "y_test = y_test.reshape(-1,1)"
   ]
  },
  {
   "cell_type": "code",
   "execution_count": 12,
   "metadata": {},
   "outputs": [],
   "source": [
    "from sklearn.preprocessing import StandardScaler\n",
    "sc_X = StandardScaler()\n",
    "X_train = sc_X.fit_transform(X_train)\n",
    "X_test = sc_X.transform(X_test)\n",
    "sc_y = StandardScaler()\n",
    "y_train = sc_y.fit_transform(y_train)\n",
    "y_test = sc_y.transform(y_test)"
   ]
  },
  {
   "cell_type": "code",
   "execution_count": 13,
   "metadata": {},
   "outputs": [],
   "source": [
    "def linear_reg(X_train, y_train):\n",
    "    n = len(X_train)\n",
    "    a_0 = np.random.rand(n,1)\n",
    "    a_1 = np.random.rand(n,1)\n",
    "    alpha = 0.001\n",
    "    epoch = 0\n",
    "    \n",
    "    while(epoch<1000):\n",
    "        y = a_0 + a_1 * X_train\n",
    "        error = y - y_train\n",
    "        mean_sq_err = np.mean(error*error)\n",
    "        a_0 = a_0 - alpha  * np.sum(error)/n\n",
    "        a_1 = a_1 - alpha * np.sum(error * X_train)/n\n",
    "        epoch += 1\n",
    "        if epoch%50 == 0:\n",
    "            print(mean_sq_err)\n",
    "            \n",
    "    return np.mean(a_0), np.mean(a_1)"
   ]
  },
  {
   "cell_type": "code",
   "execution_count": 14,
   "metadata": {
    "scrolled": false
   },
   "outputs": [
    {
     "name": "stdout",
     "output_type": "stream",
     "text": [
      "0.7280196080034028\n",
      "0.6946940192734009\n",
      "0.664541288292554\n",
      "0.6372593340870512\n",
      "0.6125748361639964\n",
      "0.5902404962877718\n",
      "0.5700325609567953\n",
      "0.5517485797599461\n",
      "0.5352053771550621\n",
      "0.5202372173500521\n",
      "0.5066941439017358\n",
      "0.49444047739791513\n",
      "0.48335345617190806\n",
      "0.4733220064317337\n",
      "0.46424562948265835\n",
      "0.4560333948948907\n",
      "0.44860302952962317\n",
      "0.44188009329694344\n",
      "0.43579723338806853\n",
      "0.43029350951052575\n"
     ]
    }
   ],
   "source": [
    "a_0, a_1 = linear_reg(X_train, y_train)"
   ]
  },
  {
   "cell_type": "code",
   "execution_count": 15,
   "metadata": {},
   "outputs": [],
   "source": [
    "from sklearn.metrics import r2_score"
   ]
  },
  {
   "cell_type": "code",
   "execution_count": 16,
   "metadata": {
    "scrolled": true
   },
   "outputs": [
    {
     "name": "stdout",
     "output_type": "stream",
     "text": [
      "0.6327506905387117\n"
     ]
    }
   ],
   "source": [
    "y_pred = a_0 + a_1 * X_test\n",
    "print(r2_score(y_test, y_pred))\n"
   ]
  },
  {
   "cell_type": "code",
   "execution_count": 17,
   "metadata": {},
   "outputs": [],
   "source": [
    "y_pred = sc_y.inverse_transform(y_pred)"
   ]
  },
  {
   "cell_type": "code",
   "execution_count": 18,
   "metadata": {
    "scrolled": true
   },
   "outputs": [
    {
     "name": "stdout",
     "output_type": "stream",
     "text": [
      "[[0.74003387]\n",
      " [0.74683327]\n",
      " [0.77403089]\n",
      " [0.68903834]\n",
      " [0.76893133]\n",
      " [0.66184073]\n",
      " [0.76213193]\n",
      " [0.66014088]\n",
      " [0.87602194]\n",
      " [0.88622104]\n",
      " [0.6108452 ]\n",
      " [0.86242313]\n",
      " [0.74003387]\n",
      " [0.5173534 ]\n",
      " [0.83182582]\n",
      " [0.69583775]\n",
      " [0.67543954]\n",
      " [0.84032507]\n",
      " [0.62614386]\n",
      " [0.76213193]\n",
      " [0.84202492]\n",
      " [0.83862522]\n",
      " [0.72473521]\n",
      " [0.53265206]\n",
      " [0.79272925]\n",
      " [0.65164162]\n",
      " [0.56664908]\n",
      " [0.69583775]\n",
      " [0.84712447]\n",
      " [0.68733849]\n",
      " [0.65164162]\n",
      " [0.73833402]\n",
      " [0.75533253]\n",
      " [0.64994177]\n",
      " [0.8012285 ]\n",
      " [0.76723148]\n",
      " [0.63124341]\n",
      " [0.85392388]\n",
      " [0.69073819]\n",
      " [0.92701747]\n",
      " [0.72303536]\n",
      " [0.69073819]\n",
      " [0.67883924]\n",
      " [0.79272925]\n",
      " [0.83352567]\n",
      " [0.64484222]\n",
      " [0.58534744]\n",
      " [0.7077367 ]\n",
      " [0.66864013]\n",
      " [0.65674118]\n",
      " [0.72643506]\n",
      " [0.8080279 ]\n",
      " [0.69923745]\n",
      " [0.82672626]\n",
      " [0.75363268]\n",
      " [0.78083029]\n",
      " [0.64484222]\n",
      " [0.71283626]\n",
      " [0.78083029]\n",
      " [0.83182582]\n",
      " [0.7978288 ]\n",
      " [0.58364759]\n",
      " [0.68053909]\n",
      " [0.58874714]\n",
      " [0.81142761]\n",
      " [0.85222403]\n",
      " [0.75363268]\n",
      " [0.87262224]\n",
      " [0.79612895]\n",
      " [0.77063119]\n",
      " [0.62784371]\n",
      " [0.83692537]\n",
      " [0.85222403]\n",
      " [0.62784371]\n",
      " [0.89302045]\n",
      " [0.67883924]\n",
      " [0.70603685]\n",
      " [0.71793581]\n",
      " [0.90661926]\n",
      " [0.62614386]]\n"
     ]
    }
   ],
   "source": [
    "print(y_pred)"
   ]
  },
  {
   "cell_type": "code",
   "execution_count": 19,
   "metadata": {},
   "outputs": [
    {
     "data": {
      "text/plain": [
       "[<matplotlib.lines.Line2D at 0x7f8bc21ec748>]"
      ]
     },
     "execution_count": 19,
     "metadata": {},
     "output_type": "execute_result"
    },
    {
     "data": {
      "image/png": "[encoded data removed]",
      "text/plain": [
       "<Figure size 432x288 with 1 Axes>"
      ]
     },
     "metadata": {
      "needs_background": "light"
     },
     "output_type": "display_data"
    }
   ],
   "source": [
    "plt.scatter(X_train, y_train, color = 'red')\n",
    "plt.plot(X_train, a_0 + a_1*X_train, color = 'blue')"
   ]
  },
  {
   "cell_type": "code",
   "execution_count": 20,
   "metadata": {},
   "outputs": [
    {
     "data": {
      "text/plain": [
       "[<matplotlib.lines.Line2D at 0x7f8bc2313c88>]"
      ]
     },
     "execution_count": 20,
     "metadata": {},
     "output_type": "execute_result"
    },
    {
     "data": {
      "image/png": "[encoded data removed]",
      "text/plain": [
       "<Figure size 432x288 with 1 Axes>"
      ]
     },
     "metadata": {
      "needs_background": "light"
     },
     "output_type": "display_data"
    }
   ],
   "source": [
    "plt.scatter(X_test, y_test, color = 'red')\n",
    "plt.plot(X_train, a_0 + a_1*X_train, color = 'blue')"
   ]
  },
  {
   "cell_type": "code",
   "execution_count": null,
   "metadata": {},
   "outputs": [],
   "source": []
  }
 ],
 "metadata": {
  "kernelspec": {
   "display_name": "Python 3",
   "language": "python",
   "name": "python3"
  },
  "language_info": {
   "codemirror_mode": {
    "name": "ipython",
    "version": 3
   },
   "file_extension": ".py",
   "mimetype": "text/x-python",
   "name": "python",
   "nbconvert_exporter": "python",
   "pygments_lexer": "ipython3",
   "version": "3.6.9"
  }
 },
 "nbformat": 4,
 "nbformat_minor": 2
}
